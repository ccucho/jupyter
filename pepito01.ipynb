{
 "cells": [
  {
   "cell_type": "markdown",
   "id": "41d28f1d",
   "metadata": {},
   "source": [
    "# Primeros Aprendizajes de Jupyter \n",
    "## Primera Clase Personal \n",
    "### Septiembre 2021\n",
    "\n",
    "Lo que voy a aprender va a servir mucho para más adelante\n",
    "- Tendré más capacidad\n",
    "- Ayudaré a más *personas*\n",
    "- Trataré de **aprender**\n",
    "\n",
    "<img src = \"http://programacion.espol.edu.ec/static/media/uploads/.thumbnails/jupyter.png/jupyter-1091x542.png\">\n"
   ]
  },
  {
   "cell_type": "code",
   "execution_count": null,
   "id": "81975469",
   "metadata": {},
   "outputs": [],
   "source": [
    "print (\"Este es el bloque 01\")\n",
    "X = 10"
   ]
  },
  {
   "cell_type": "markdown",
   "id": "7fc909a5",
   "metadata": {},
   "source": [
    "![Pepe](http://programacion.espol.edu.ec/static/media/uploads/.thumbnails/jupyter.png/jupyter-1091x542.png)"
   ]
  },
  {
   "cell_type": "code",
   "execution_count": null,
   "id": "acde638c",
   "metadata": {},
   "outputs": [],
   "source": [
    "print (X)"
   ]
  },
  {
   "cell_type": "code",
   "execution_count": null,
   "id": "aebcfdc8",
   "metadata": {},
   "outputs": [],
   "source": [
    "print (\"Este es el valor de X, X\")"
   ]
  },
  {
   "cell_type": "code",
   "execution_count": null,
   "id": "5dd213e5",
   "metadata": {},
   "outputs": [],
   "source": [
    "print (\"Este es el valor de X\",X)"
   ]
  },
  {
   "cell_type": "code",
   "execution_count": 1,
   "id": "ab78ead2",
   "metadata": {},
   "outputs": [
    {
     "ename": "ModuleNotFoundError",
     "evalue": "No module named 'classifier'",
     "output_type": "error",
     "traceback": [
      "\u001b[1;31m---------------------------------------------------------------------------\u001b[0m",
      "\u001b[1;31mModuleNotFoundError\u001b[0m                       Traceback (most recent call last)",
      "\u001b[1;32m<ipython-input-1-247cedd582df>\u001b[0m in \u001b[0;36m<module>\u001b[1;34m\u001b[0m\n\u001b[0;32m      1\u001b[0m \u001b[1;31m# importar la libreria\u001b[0m\u001b[1;33m\u001b[0m\u001b[1;33m\u001b[0m\u001b[1;33m\u001b[0m\u001b[0m\n\u001b[1;32m----> 2\u001b[1;33m \u001b[1;32mfrom\u001b[0m \u001b[0mclassifier\u001b[0m \u001b[1;32mimport\u001b[0m \u001b[0mSentimentClassifier\u001b[0m\u001b[1;33m\u001b[0m\u001b[1;33m\u001b[0m\u001b[0m\n\u001b[0m\u001b[0;32m      3\u001b[0m \u001b[1;33m\u001b[0m\u001b[0m\n\u001b[0;32m      4\u001b[0m \u001b[1;31m#Instaciar el clasificador esto puede demorar un poco\u001b[0m\u001b[1;33m\u001b[0m\u001b[1;33m\u001b[0m\u001b[1;33m\u001b[0m\u001b[0m\n\u001b[0;32m      5\u001b[0m \u001b[0mclf\u001b[0m \u001b[1;33m=\u001b[0m \u001b[0mSentimentClassifier\u001b[0m\u001b[1;33m(\u001b[0m\u001b[1;33m)\u001b[0m\u001b[1;33m\u001b[0m\u001b[1;33m\u001b[0m\u001b[0m\n",
      "\u001b[1;31mModuleNotFoundError\u001b[0m: No module named 'classifier'"
     ]
    }
   ],
   "source": [
    "# importar la libreria \n",
    "from classifier import SentimentClassifier\n",
    "\n",
    "#Instaciar el clasificador esto puede demorar un poco \n",
    "clf = SentimentClassifier()"
   ]
  },
  {
   "cell_type": "code",
   "execution_count": null,
   "id": "fc3f6a13",
   "metadata": {},
   "outputs": [],
   "source": []
  }
 ],
 "metadata": {
  "kernelspec": {
   "display_name": "Python 3",
   "language": "python",
   "name": "python3"
  },
  "language_info": {
   "codemirror_mode": {
    "name": "ipython",
    "version": 3
   },
   "file_extension": ".py",
   "mimetype": "text/x-python",
   "name": "python",
   "nbconvert_exporter": "python",
   "pygments_lexer": "ipython3",
   "version": "3.8.8"
  }
 },
 "nbformat": 4,
 "nbformat_minor": 5
}
